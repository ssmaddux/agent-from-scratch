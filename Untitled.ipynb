{
 "cells": [
  {
   "cell_type": "code",
   "execution_count": 2,
   "id": "33faf22d-de6a-4fc9-895b-4814d5312410",
   "metadata": {},
   "outputs": [],
   "source": [
    "import openai \n",
    "import os\n",
    "from dotenv import load_dotenv\n",
    "load_dotenv()\n",
    "openai.api_key = os.getenv(\"OPENAI_API_KEY\")\n",
    "#print(os.getenv(\"OPENAI_API_KEY\"))\n",
    "\n",
    "#YOUR_API_KEY = os.environ.get(\"OPENAI_API_KEY\")\n",
    "#print(YOUR_API_KEY)"
   ]
  },
  {
   "cell_type": "code",
   "execution_count": 3,
   "id": "4080a3da",
   "metadata": {},
   "outputs": [
    {
     "data": {
      "text/markdown": [
       "Sure, here are three tasks you can carry out on your desktop using the terminal:\n",
       "\n",
       "1. Creating a New Folder:\n",
       "You can create a new folder/directory right from your terminal. To do this, you can use the mkdir command. The syntax is \"mkdir folderName\". Replace \"folderName\" with desired name of your folder. \n",
       "\n",
       "2. Creating a Text File:\n",
       "You can also create a text file using the terminal. You can use the touch command to do this. The syntax is \"touch fileName.txt\". Replace \"fileName\" with the desired name of your file.\n",
       "\n",
       "3. Listing Directory Contents:\n",
       "You can list all files and directories in your current directory using the ls command. Simply type \"ls\" and hit Enter. If you want to display detailed information such as the size of the files, when they were created or modified, you could use \"ls -l\".\n",
       "\n",
       "Remember, all these commands should be entered without the quotation marks."
      ],
      "text/plain": [
       "<IPython.core.display.Markdown object>"
      ]
     },
     "execution_count": 3,
     "metadata": {},
     "output_type": "execute_result"
    }
   ],
   "source": [
    "from openai import OpenAI\n",
    "from IPython.display import Markdown\n",
    "client = OpenAI()\n",
    "\n",
    "def get_response(prompt_question):\n",
    "    response = client.chat.completions.create(\n",
    "        model=\"gpt-4\",\n",
    "        messages=[{\"role\": \"system\", \"content\": \"you are a helpful research and programmig assistant \"},{\"role\": \"user\", \"content\": prompt_question}]\n",
    "    )\n",
    "\n",
    "    return response.choices[0].message.content\n",
    "\n",
    "output = get_response(\"Create a simple task list of three desktop things i can do on the terminal.\")\n",
    "Markdown(output)\n"
   ]
  },
  {
   "cell_type": "code",
   "execution_count": 5,
   "id": "c110197c",
   "metadata": {},
   "outputs": [],
   "source": [
    "import subprocess\n",
    "\n",
    "def create_directory():\n",
    "    subprocess.run([\"mkdir\", \"test\"])\n",
    "\n",
    "def create_file():\n",
    "    subprocess.run([\"touch\", \"test.txt\"])\n",
    "\n",
    "def list_files():\n",
    "    subprocess.run([\"ls\"])"
   ]
  },
  {
   "cell_type": "code",
   "execution_count": 6,
   "id": "8f13759c",
   "metadata": {},
   "outputs": [
    {
     "name": "stdout",
     "output_type": "stream",
     "text": [
      "ReAct  ReAct-Finance  Untitled.ipynb  llm\n"
     ]
    }
   ],
   "source": [
    "!ls"
   ]
  },
  {
   "cell_type": "code",
   "execution_count": 7,
   "id": "fe1dd303",
   "metadata": {},
   "outputs": [
    {
     "name": "stdout",
     "output_type": "stream",
     "text": [
      "ReAct  ReAct-Finance  Untitled.ipynb  llm  test\n"
     ]
    }
   ],
   "source": [
    "create_directory()\n",
    "\n",
    "!ls"
   ]
  },
  {
   "cell_type": "code",
   "execution_count": 8,
   "id": "3375b854",
   "metadata": {},
   "outputs": [
    {
     "name": "stdout",
     "output_type": "stream",
     "text": [
      "ReAct  ReAct-Finance  Untitled.ipynb  llm  test  test.txt\n"
     ]
    }
   ],
   "source": [
    "create_file()\n",
    "\n",
    "!ls"
   ]
  },
  {
   "cell_type": "code",
   "execution_count": 9,
   "id": "274bd1d5",
   "metadata": {},
   "outputs": [
    {
     "name": "stdout",
     "output_type": "stream",
     "text": [
      "ReAct\n",
      "ReAct-Finance\n",
      "Untitled.ipynb\n",
      "llm\n",
      "test\n",
      "test.txt\n"
     ]
    }
   ],
   "source": [
    "list_files()"
   ]
  },
  {
   "cell_type": "code",
   "execution_count": 14,
   "id": "2ba4a308",
   "metadata": {},
   "outputs": [
    {
     "name": "stdout",
     "output_type": "stream",
     "text": [
      "create_directory('ChaptGPT-made-me')\n"
     ]
    }
   ],
   "source": [
    "class ModelWithTools:\n",
    "    def __init__(self, model):\n",
    "        self.model = model\n",
    "\n",
    "    def get_response(self,prompt_question):\n",
    "        response = client.chat.completions.create(\n",
    "            model=\"gpt-4\",\n",
    "            messages=[{\"role\": \"system\", \"content\": \"you are a helpful research and programming assistant \"},{\"role\": \"user\", \"content\": prompt_question}]\n",
    "        )\n",
    "\n",
    "        return response.choices[0].message.content\n",
    "    \n",
    "    def create_directory(self, directory_name):\n",
    "        subprocess.run([\"mkdir\", directory_name])\n",
    "\n",
    "    def create_file(self, file_name):\n",
    "        subprocess.run([\"touch\", file_name])\n",
    "\n",
    "    def list_files(self):\n",
    "        subprocess.run([\"ls\"])\n",
    "    \n",
    "\n",
    "auto_command = ModelWithTools(\"gtp-4\")\n",
    "task_description = \"Create a folder called 'ChaptGPT-made-me'. Inside that folder, create a file called 'the-rulez.md'\"\n",
    "output = auto_command.get_response(f\"\"\"Given this task: {task_description}, \\n\n",
    "                                   Consider you have access to the following functions:\n",
    "\n",
    "\n",
    "    def create_directory(self, directory_name):\n",
    "        '''Function that creates a directory given a directory name.'''\n",
    "        subprocess.run([\"mkdir\", directory_name])\n",
    "\n",
    "    def create_file(self, file_name):\n",
    "        '''Function that creates a file given a file name.'''\n",
    "        subprocess.run([\"touch\", file_name])\n",
    "\n",
    "    def list_files(self):\n",
    "        '''Function that lists all files inthe current directory.'''\n",
    "        subprocess.run([\"ls\"])\n",
    "                                   \n",
    "    \n",
    "    Your output should be the first function to be executed to complete the task conataining the necessary arguments. The OUTPUT SHOULD ONLY BE THE PYTHON FUNCTION CALL AND NOTHING ELSE.                               \n",
    "                                   \"\"\")\n",
    "\n",
    "#Markdown(output)\n",
    "print(output)\n",
    "\n",
    "    "
   ]
  },
  {
   "cell_type": "markdown",
   "id": "fc17a0f0",
   "metadata": {},
   "source": [
    "To this point we have made the structure of how our llm can output a string that is our function call. The cell below is the user manually calling that function. Next, I am going to include the function exec into the llm's tools and have it call it that way."
   ]
  },
  {
   "cell_type": "code",
   "execution_count": 16,
   "id": "f03c0219",
   "metadata": {},
   "outputs": [],
   "source": [
    "exec(\"auto_command.\" + output)"
   ]
  },
  {
   "cell_type": "code",
   "execution_count": 17,
   "id": "e39d6ea7",
   "metadata": {},
   "outputs": [
    {
     "data": {
      "text/markdown": [
       "auto_command.create_directory('execute-function-call-folder')"
      ],
      "text/plain": [
       "<IPython.core.display.Markdown object>"
      ]
     },
     "execution_count": 17,
     "metadata": {},
     "output_type": "execute_result"
    }
   ],
   "source": [
    "class ModelWithTools:\n",
    "    def __init__(self, model):\n",
    "        self.model = model\n",
    "\n",
    "    def get_response(self,prompt_question):\n",
    "        response = client.chat.completions.create(\n",
    "            model=\"gpt-4\",\n",
    "            messages=[{\"role\": \"system\", \"content\": \"you are a helpful research and programming assistant \"},{\"role\": \"user\", \"content\": prompt_question}]\n",
    "        )\n",
    "\n",
    "        return response.choices[0].message.content\n",
    "    \n",
    "    def create_directory(self, directory_name):\n",
    "        subprocess.run([\"mkdir\", directory_name])\n",
    "\n",
    "    def create_file(self, file_name):\n",
    "        subprocess.run([\"touch\", file_name])\n",
    "\n",
    "    def list_files(self):\n",
    "        subprocess.run([\"ls\"])\n",
    "\n",
    "    def execute_function_call(self, function_call_string: str):\n",
    "        exec(function_call_string)\n",
    "    \n",
    "\n",
    "auto_command = ModelWithTools(\"gtp-4\")\n",
    "task_description = \"Create a folder called 'execute-function-call-folder'.\"\n",
    "output = auto_command.get_response(f\"\"\"Given a task that will be fed as input, and\n",
    "                                   consider you have access to the following functions:\n",
    "\n",
    "\n",
    "    def create_directory(self, directory_name):\n",
    "        '''Function that creates a directory given a directory name.'''\n",
    "        subprocess.run([\"mkdir\", directory_name])\n",
    "\n",
    "    def create_file(self, file_name):\n",
    "        '''Function that creates a file given a file name.'''\n",
    "        subprocess.run([\"touch\", file_name])\n",
    "\n",
    "    def list_files(self):\n",
    "        '''Function that lists all files inthe current directory.'''\n",
    "        subprocess.run([\"ls\"])\n",
    "                                   \n",
    "    \n",
    "    Your output should be the first function to be executed to complete the task conataining the necessary arguments. For example:\n",
    "\n",
    "    task: 'Create a folder named sages-folder'\n",
    "    output: auto_command.create_directory('sages-folder')\n",
    "\n",
    "    task: 'Create a file named sages-file.txt'\n",
    "    output: auto_command.create_file('sages-file.txt')\n",
    "\n",
    "    The OUTPUT SHOULD ONLY BE THE PYTHON FUNCTION CALL and NOTHING ELSE.\n",
    "\n",
    "    task:{task_description}\n",
    "    output:\\n                               \n",
    "    \"\"\")\n",
    "\n",
    "Markdown(output)\n",
    "#print(output)\n",
    "\n",
    "    "
   ]
  },
  {
   "cell_type": "markdown",
   "id": "4f9aa08c",
   "metadata": {},
   "source": [
    "Above I provide the llm with a few shot learning prompts and change the location of where the task description is passed to the llm.\n",
    "\n",
    "Below I execute the function call by the llm."
   ]
  },
  {
   "cell_type": "code",
   "execution_count": 19,
   "id": "695e399f",
   "metadata": {},
   "outputs": [],
   "source": [
    "auto_command.execute_function_call(output)"
   ]
  },
  {
   "cell_type": "code",
   "execution_count": 20,
   "id": "6a6618de",
   "metadata": {},
   "outputs": [
    {
     "data": {
      "text/markdown": [
       "[auto_command.create_directory('execute-function-call-folder1'), auto_command.create_file('execute-function-call-folder1/june-bug.txt')]"
      ],
      "text/plain": [
       "<IPython.core.display.Markdown object>"
      ]
     },
     "execution_count": 20,
     "metadata": {},
     "output_type": "execute_result"
    }
   ],
   "source": [
    "auto_command = ModelWithTools(\"gtp-4\")\n",
    "task_description = \"Create a folder called 'execute-function-call-folder1'. Inside that folder create a file called 'june-bug.txt'\"\n",
    "output = auto_command.get_response(f\"\"\"Given a task that will be fed as input, and\n",
    "                                   consider you have access to the following functions:\n",
    "\n",
    "\n",
    "    def create_directory(self, directory_name):\n",
    "        '''Function that creates a directory given a directory name.'''\n",
    "        subprocess.run([\"mkdir\", directory_name])\n",
    "\n",
    "    def create_file(self, file_name):\n",
    "        '''Function that creates a file given a file name.'''\n",
    "        subprocess.run([\"touch\", file_name])\n",
    "\n",
    "    def list_files(self):\n",
    "        '''Function that lists all files inthe current directory.'''\n",
    "        subprocess.run([\"ls\"])\n",
    "                                   \n",
    "    \n",
    "    Your output should be a list of function calls to be executed to complete the task containing the necessary arguments. For example:\n",
    "\n",
    "    task: 'Create a folder named sages-folder'\n",
    "    output_list: auto_command.create_directory('sages-folder')\n",
    "\n",
    "    task: 'Create a file named sages-file.txt'\n",
    "    output_list: auto_command.create_file('sages-file.txt')\n",
    "                                   \n",
    "    task: 'Create a folder named sages-dir and inside that folder create a file named sages-file.txt'\n",
    "    output_list:[auto_command.create_directory('sages-dir'), model.create_file('sages-dir/sages-file.txt')]                                   \n",
    "\n",
    "    The OUTPUT SHOULD ONLY BE THE PYTHON LIST WITH THE FUNCTION CALL INSIDE and NOTHING ELSE.\n",
    "\n",
    "    task:{task_description}\n",
    "    output:\\n                               \n",
    "    \"\"\")\n",
    "\n",
    "Markdown(output)\n",
    "#print(output)"
   ]
  },
  {
   "cell_type": "markdown",
   "id": "b228848e",
   "metadata": {},
   "source": [
    "Above I changed the prompt engineering IOT create a list rather than a single function call. This will allow me to have the llm accomplish multi step problems aka pass multiple tool inputs to be called."
   ]
  },
  {
   "cell_type": "code",
   "execution_count": 21,
   "id": "76a65c39",
   "metadata": {},
   "outputs": [],
   "source": [
    "auto_command.execute_function_call(output)"
   ]
  },
  {
   "cell_type": "code",
   "execution_count": null,
   "id": "17871b0d",
   "metadata": {},
   "outputs": [],
   "source": []
  }
 ],
 "metadata": {
  "kernelspec": {
   "display_name": "Python 3 (ipykernel)",
   "language": "python",
   "name": "python3"
  },
  "language_info": {
   "codemirror_mode": {
    "name": "ipython",
    "version": 3
   },
   "file_extension": ".py",
   "mimetype": "text/x-python",
   "name": "python",
   "nbconvert_exporter": "python",
   "pygments_lexer": "ipython3",
   "version": "3.10.12"
  }
 },
 "nbformat": 4,
 "nbformat_minor": 5
}
